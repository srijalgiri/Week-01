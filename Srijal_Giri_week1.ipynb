{
  "nbformat": 4,
  "nbformat_minor": 0,
  "metadata": {
    "colab": {
      "provenance": []
    },
    "kernelspec": {
      "name": "python3",
      "display_name": "Python 3"
    },
    "language_info": {
      "name": "python"
    }
  },
  "cells": [
    {
      "cell_type": "code",
      "execution_count": null,
      "metadata": {
        "colab": {
          "base_uri": "https://localhost:8080/"
        },
        "id": "N0YDVmxu8SDk",
        "outputId": "7fe33c93-2c31-412c-b196-ebcbfe7ccf39"
      },
      "outputs": [
        {
          "output_type": "stream",
          "name": "stdout",
          "text": [
            "[[0. 0.]\n",
            " [0. 0.]]\n"
          ]
        }
      ],
      "source": [
        "#Problem1\n",
        "#Task1\n",
        "import numpy as np\n",
        "array=np.empty((2,2))\n",
        "print(array)"
      ]
    },
    {
      "cell_type": "code",
      "source": [
        "#Task2\n",
        "import numpy as np\n",
        "array=np.ones((4,2))\n",
        "print(array)"
      ],
      "metadata": {
        "colab": {
          "base_uri": "https://localhost:8080/"
        },
        "id": "nfXBEx3l97tT",
        "outputId": "3fcc1526-031a-42b3-d93f-c57a17655760"
      },
      "execution_count": null,
      "outputs": [
        {
          "output_type": "stream",
          "name": "stdout",
          "text": [
            "[[1. 1.]\n",
            " [1. 1.]\n",
            " [1. 1.]\n",
            " [1. 1.]]\n"
          ]
        }
      ]
    },
    {
      "cell_type": "code",
      "source": [
        "#Task3\n",
        "import numpy as np\n",
        "shape=(3,3)\n",
        "fill_value=3\n",
        "dtype=int\n",
        "array=np.full(shape,fill_value,dtype=dtype)\n",
        "print(array)"
      ],
      "metadata": {
        "colab": {
          "base_uri": "https://localhost:8080/"
        },
        "id": "EGYhLm5x-cJ4",
        "outputId": "7a5d54b1-c6db-4701-f1b5-5882a16c3413"
      },
      "execution_count": null,
      "outputs": [
        {
          "output_type": "stream",
          "name": "stdout",
          "text": [
            "[[3 3 3]\n",
            " [3 3 3]\n",
            " [3 3 3]]\n"
          ]
        }
      ]
    },
    {
      "cell_type": "code",
      "source": [
        "#Task4\n",
        "import numpy as np\n",
        "array=np.array(([1,2,3],[3,2,1]))\n",
        "zeros_array=np.zeros_like(array)\n",
        "print(\"Array:\")\n",
        "print(array)\n",
        "print(\"\\nNew array:\")\n",
        "print(zeros_array)"
      ],
      "metadata": {
        "colab": {
          "base_uri": "https://localhost:8080/"
        },
        "id": "iJKwAO-K_HkZ",
        "outputId": "91e8aea8-88a6-46b1-c959-9b0c9ae538b8"
      },
      "execution_count": null,
      "outputs": [
        {
          "output_type": "stream",
          "name": "stdout",
          "text": [
            "Array:\n",
            "[[1 2 3]\n",
            " [3 2 1]]\n",
            "\n",
            "New array:\n",
            "[[0 0 0]\n",
            " [0 0 0]]\n"
          ]
        }
      ]
    },
    {
      "cell_type": "code",
      "source": [
        "#Task5\n",
        "import numpy as np\n",
        "array=np.array(([1,2,3],[3,2,1]))\n",
        "ones_array=np.ones_like(array)\n",
        "print(\"Array:\")\n",
        "print(array)\n",
        "print(\"\\nNew array:\")\n",
        "print(ones_array)"
      ],
      "metadata": {
        "colab": {
          "base_uri": "https://localhost:8080/"
        },
        "id": "NDCNW-dP_-9f",
        "outputId": "f22d9d9a-fdfe-475c-917b-86c9a596ad37"
      },
      "execution_count": null,
      "outputs": [
        {
          "output_type": "stream",
          "name": "stdout",
          "text": [
            "Array:\n",
            "[[1 2 3]\n",
            " [3 2 1]]\n",
            "\n",
            "New array:\n",
            "[[1 1 1]\n",
            " [1 1 1]]\n"
          ]
        }
      ]
    },
    {
      "cell_type": "code",
      "source": [
        "#Task6\n",
        "import numpy as np\n",
        "new_list=[1,2,3,4]\n",
        "new_array=np.array(new_list)\n",
        "print(new_array)"
      ],
      "metadata": {
        "colab": {
          "base_uri": "https://localhost:8080/"
        },
        "id": "66AOy8rwAayl",
        "outputId": "68dd0729-5db9-468b-bd57-fb7960880f6f"
      },
      "execution_count": null,
      "outputs": [
        {
          "output_type": "stream",
          "name": "stdout",
          "text": [
            "[1 2 3 4]\n"
          ]
        }
      ]
    },
    {
      "cell_type": "code",
      "source": [
        "#Problem2\n",
        "#Task1\n",
        "import numpy as np\n",
        "array=np.arange(10,50)\n",
        "print(\"Array ranging from 10 to 49:\")\n",
        "print(array)"
      ],
      "metadata": {
        "colab": {
          "base_uri": "https://localhost:8080/"
        },
        "id": "7yH1FefKAv2t",
        "outputId": "bd076539-02d4-46f2-d32f-937dfff4ce5c"
      },
      "execution_count": null,
      "outputs": [
        {
          "output_type": "stream",
          "name": "stdout",
          "text": [
            "Array ranging from 10 to 49:\n",
            "[10 11 12 13 14 15 16 17 18 19 20 21 22 23 24 25 26 27 28 29 30 31 32 33\n",
            " 34 35 36 37 38 39 40 41 42 43 44 45 46 47 48 49]\n"
          ]
        }
      ]
    },
    {
      "cell_type": "code",
      "source": [
        "#Task2\n",
        "import numpy as np\n",
        "array=np.arange(9)\n",
        "matrix=array.reshape(3,3)\n",
        "print(\"Matrix ranging from 0 to 8:\")\n",
        "print(matrix)"
      ],
      "metadata": {
        "colab": {
          "base_uri": "https://localhost:8080/"
        },
        "id": "I8XNxcfKBsG2",
        "outputId": "5d3df538-0361-498c-aa64-df6d35d04cd8"
      },
      "execution_count": null,
      "outputs": [
        {
          "output_type": "stream",
          "name": "stdout",
          "text": [
            "Matrix ranging from 0 to 8:\n",
            "[[0 1 2]\n",
            " [3 4 5]\n",
            " [6 7 8]]\n"
          ]
        }
      ]
    },
    {
      "cell_type": "code",
      "source": [
        "#Task3\n",
        "import numpy as np\n",
        "array=np.eye(3,3)\n",
        "print(\"Identity matrix:\")\n",
        "print(array)"
      ],
      "metadata": {
        "colab": {
          "base_uri": "https://localhost:8080/"
        },
        "id": "4S4ZoAdDCR3R",
        "outputId": "512d950d-2f8a-4cd8-9c91-63370b728946"
      },
      "execution_count": null,
      "outputs": [
        {
          "output_type": "stream",
          "name": "stdout",
          "text": [
            "Identity matrix:\n",
            "[[1. 0. 0.]\n",
            " [0. 1. 0.]\n",
            " [0. 0. 1.]]\n"
          ]
        }
      ]
    },
    {
      "cell_type": "code",
      "source": [
        "#Task4\n",
        "import numpy as np\n",
        "random_array=np.random.random(30)\n",
        "mean_value=random_array.mean()\n",
        "print(\"Random array:\",random_array)\n",
        "print(\"\\nMean:\",mean_value)"
      ],
      "metadata": {
        "colab": {
          "base_uri": "https://localhost:8080/"
        },
        "id": "DW9LzW_6CpZa",
        "outputId": "60f6f5e4-a707-4733-9901-bb93a9071b90"
      },
      "execution_count": null,
      "outputs": [
        {
          "output_type": "stream",
          "name": "stdout",
          "text": [
            "Random array: [0.09809595 0.58354256 0.58315088 0.09839974 0.87761925 0.38886024\n",
            " 0.81371235 0.94726437 0.34627173 0.46966659 0.00246106 0.73695025\n",
            " 0.54597743 0.73245802 0.54966428 0.18844657 0.60432061 0.13947532\n",
            " 0.71575514 0.31083771 0.31199978 0.75347448 0.30596997 0.11076985\n",
            " 0.30225681 0.47480039 0.4345879  0.64932083 0.35050581 0.96527783]\n",
            "\n",
            "Mean: 0.47972978973350944\n"
          ]
        }
      ]
    },
    {
      "cell_type": "code",
      "source": [
        "#Task5\n",
        "import numpy as np\n",
        "ran_array=np.random.random((10,10))\n",
        "min_value=ran_array.min()\n",
        "max_value=ran_array.max()\n",
        "print(\"Random array:\",ran_array)\n",
        "print(\"Minimum value:\",min_value)\n",
        "print(\"Maximum value:\",max_value)"
      ],
      "metadata": {
        "colab": {
          "base_uri": "https://localhost:8080/"
        },
        "id": "XP15Oqj1Df-k",
        "outputId": "99f58d9a-25ce-4cf6-fda9-ff66d83ec845"
      },
      "execution_count": null,
      "outputs": [
        {
          "output_type": "stream",
          "name": "stdout",
          "text": [
            "Random array: [[0.98683076 0.57310018 0.71240647 0.58621914 0.02770495 0.44980117\n",
            "  0.34352643 0.40921351 0.11947299 0.38095651]\n",
            " [0.03766465 0.64291715 0.18357123 0.55095526 0.94617434 0.41052885\n",
            "  0.59586248 0.18387478 0.30293051 0.65678453]\n",
            " [0.34626071 0.94887703 0.80434427 0.74985152 0.1244556  0.00450202\n",
            "  0.7414926  0.24758145 0.14542919 0.17102887]\n",
            " [0.14266281 0.19622345 0.56461925 0.35551461 0.12918122 0.51914669\n",
            "  0.16155578 0.13540665 0.7194373  0.77941589]\n",
            " [0.94131304 0.72084965 0.75077435 0.45047786 0.720823   0.06554876\n",
            "  0.96029521 0.72836137 0.93322739 0.75964851]\n",
            " [0.67850572 0.43360745 0.80815858 0.14168251 0.04010621 0.00408521\n",
            "  0.54874877 0.13819673 0.94930686 0.23644846]\n",
            " [0.89320704 0.7027019  0.71625359 0.14423756 0.25519457 0.43948438\n",
            "  0.52107499 0.76856219 0.14109886 0.99334401]\n",
            " [0.05449414 0.38235097 0.11615869 0.02381557 0.6796221  0.50861982\n",
            "  0.57486151 0.46776465 0.50804845 0.06589568]\n",
            " [0.49020147 0.03951266 0.85655157 0.54379404 0.84042394 0.66141193\n",
            "  0.46076756 0.50244747 0.48007025 0.49743032]\n",
            " [0.34426241 0.380361   0.26267585 0.9340573  0.11523878 0.79923189\n",
            "  0.33021493 0.17014641 0.15080718 0.83246137]]\n",
            "Minimum value: 0.004085213545692246\n",
            "Maximum value: 0.9933440056141613\n"
          ]
        }
      ]
    },
    {
      "cell_type": "code",
      "source": [
        "#Task6\n",
        "import numpy as np\n",
        "array = np.zeros(10)\n",
        "array[4] = 1\n",
        "print(array)"
      ],
      "metadata": {
        "colab": {
          "base_uri": "https://localhost:8080/"
        },
        "id": "H6GUWNhbD07R",
        "outputId": "40447a54-0574-424e-b4fe-12cb5095bfae"
      },
      "execution_count": null,
      "outputs": [
        {
          "output_type": "stream",
          "name": "stdout",
          "text": [
            "[0. 0. 0. 0. 1. 0. 0. 0. 0. 0.]\n"
          ]
        }
      ]
    },
    {
      "cell_type": "code",
      "source": [],
      "metadata": {
        "id": "uZEmFlVxE7C2"
      },
      "execution_count": null,
      "outputs": []
    },
    {
      "cell_type": "code",
      "source": [
        "#Task7\n",
        "import numpy as np\n",
        "arr=np.array([1,2,0,0,4,0])\n",
        "print(\"Array:\",arr)\n",
        "reverse_array=np.flip(arr)\n",
        "print(\"Reverse array:\",reverse_array)"
      ],
      "metadata": {
        "colab": {
          "base_uri": "https://localhost:8080/"
        },
        "id": "W3BbCgcVFNLT",
        "outputId": "1630fd0a-1222-4b94-ad85-fbc6b4949f4b"
      },
      "execution_count": null,
      "outputs": [
        {
          "output_type": "stream",
          "name": "stdout",
          "text": [
            "Array: [1 2 0 0 4 0]\n",
            "Reverse array: [0 4 0 0 2 1]\n"
          ]
        }
      ]
    },
    {
      "cell_type": "code",
      "source": [
        "#Task8\n",
        "import numpy as np\n",
        "n=5\n",
        "arr=np.ones((n,n),dtype=int)\n",
        "arr[1:-1,1:-1]=0\n",
        "print(arr)"
      ],
      "metadata": {
        "colab": {
          "base_uri": "https://localhost:8080/"
        },
        "id": "dK5WAV3CFtTB",
        "outputId": "d1cc3a2a-15a2-43b2-9051-3d5099e96a05"
      },
      "execution_count": null,
      "outputs": [
        {
          "output_type": "stream",
          "name": "stdout",
          "text": [
            "[[1 1 1 1 1]\n",
            " [1 0 0 0 1]\n",
            " [1 0 0 0 1]\n",
            " [1 0 0 0 1]\n",
            " [1 1 1 1 1]]\n"
          ]
        }
      ]
    },
    {
      "cell_type": "code",
      "source": [
        "#Task9\n",
        "import numpy as np\n",
        "n=8\n",
        "arr=np.zeros((n,n),dtype=int)\n",
        "arr[::2,::2]=1\n",
        "arr[1::2,1::2]=1\n",
        "print(arr)"
      ],
      "metadata": {
        "colab": {
          "base_uri": "https://localhost:8080/"
        },
        "id": "vQL0ngV9F-Ml",
        "outputId": "a8a7a3ff-8118-4803-c2a3-d29bd6d065ca"
      },
      "execution_count": null,
      "outputs": [
        {
          "output_type": "stream",
          "name": "stdout",
          "text": [
            "[[1 0 1 0 1 0 1 0]\n",
            " [0 1 0 1 0 1 0 1]\n",
            " [1 0 1 0 1 0 1 0]\n",
            " [0 1 0 1 0 1 0 1]\n",
            " [1 0 1 0 1 0 1 0]\n",
            " [0 1 0 1 0 1 0 1]\n",
            " [1 0 1 0 1 0 1 0]\n",
            " [0 1 0 1 0 1 0 1]]\n"
          ]
        }
      ]
    },
    {
      "cell_type": "code",
      "source": [
        "#Problem 3\n",
        "import numpy as np\n",
        "x = np.array([[1,2],[3,5]])\n",
        "y = np.array([[5,6],[7,8]])\n",
        "v = np.array([9,10])\n",
        "w = np.array([11,12])\n",
        "print(\"Add:\\n\", np.add(x, y)) # Output Add: [5 7 9]\n",
        "print(\"Subtract:\", np.subtract(v, w))\n",
        "print(\"Multiply:\\n\", np.multiply(x, y))\n",
        "print(\"Square:\", np.power(v, 2))\n",
        "v_w = np.dot(v, w)\n",
        "print(\"Result v_w:\\n\", v_w)\n",
        "x_y = np.dot(x, y)\n",
        "print(\"Result x_y:\\n\", x_y)\n",
        "x_v = np.dot(x, v)\n",
        "print(\"Result x_v:\\n\", x_v)\n",
        "concat_row= np.concatenate((x, y), axis=0)\n",
        "print(\"Concatenation of x and y along rows:\")\n",
        "print(concat_row)\n",
        "concat_vw_col = np.vstack((v, w))\n",
        "print(\"\\nConcatenation of v and w along columns:\")\n",
        "print(concat_vw_col)\n",
        "#Task7\n",
        "#This comes about in an blunder since x could be a 2-dimensional array,\n",
        "#whereas v may be a 1-dimensional array.\n",
        "#The error message: all the input arrays must have same number of dimensions,\n",
        "#but the array at record has 2 dimensions and the array at index 1 has 1 dimension."
      ],
      "metadata": {
        "colab": {
          "base_uri": "https://localhost:8080/"
        },
        "id": "TPKsnHkoIQer",
        "outputId": "57148953-7172-4f20-bde3-4fbf88b49cdd"
      },
      "execution_count": null,
      "outputs": [
        {
          "output_type": "stream",
          "name": "stdout",
          "text": [
            "Add:\n",
            " [[ 6  8]\n",
            " [10 13]]\n",
            "Subtract: [-2 -2]\n",
            "Multiply:\n",
            " [[ 5 12]\n",
            " [21 40]]\n",
            "Square: [ 81 100]\n",
            "Result v_w:\n",
            " 219\n",
            "Result x_y:\n",
            " [[19 22]\n",
            " [50 58]]\n",
            "Result x_v:\n",
            " [29 77]\n",
            "Concatenation of x and y along rows:\n",
            "[[1 2]\n",
            " [3 5]\n",
            " [5 6]\n",
            " [7 8]]\n",
            "\n",
            "Concatenation of v and w along columns:\n",
            "[[ 9 10]\n",
            " [11 12]]\n"
          ]
        }
      ]
    },
    {
      "cell_type": "code",
      "source": [
        "#Problem 4 (1)\n",
        "import numpy as np\n",
        "A = np.array([[3,4],[7,8]])\n",
        "B = np.array([[5,3],[2,1]])\n",
        "#1. Prove A.A−1 = I\n",
        "a_inv=np.linalg.inv(A)\n",
        "I=np.identity(2)\n",
        "result=np.dot(A,a_inv)\n",
        "result = np.round(result).astype(int)\n",
        "print(\"A * A^-1 = \\n\", result)\n",
        "print(\"Is A * A^-1 equal to the identity matrix? \", np.allclose(result, I))\n",
        "#2. Prove AB ̸= BA.\n",
        "a = np.dot(A, B)\n",
        "b= np.dot(B, A)\n",
        "print(\"\\nAB = \\n\", a)\n",
        "print(\"BA = \\n\", b)\n",
        "print(\"Is AB equal to BA? \", np.array_equal(a, b))\n",
        "#3. Prove (AB)T = BTAT\n",
        "abt=np.transpose(a)\n",
        "bt_at=np.dot(np.transpose(B),np.transpose(A))\n",
        "print(\"(AB)T=\\n\",abt)\n",
        "print(\"(AT*BT=\\n\",bt_at)\n",
        "print(\"Is (AB)T equal to BT*AT? \", np.array_equal(abt,bt_at))\n"
      ],
      "metadata": {
        "id": "NieciDWlJga2",
        "colab": {
          "base_uri": "https://localhost:8080/"
        },
        "outputId": "4013a7c6-f70a-4e29-d6b8-ed20750a2c1b"
      },
      "execution_count": null,
      "outputs": [
        {
          "output_type": "stream",
          "name": "stdout",
          "text": [
            "A * A^-1 = \n",
            " [[1 0]\n",
            " [0 1]]\n",
            "Is A * A^-1 equal to the identity matrix?  True\n",
            "\n",
            "AB = \n",
            " [[23 13]\n",
            " [51 29]]\n",
            "BA = \n",
            " [[36 44]\n",
            " [13 16]]\n",
            "Is AB equal to BA?  False\n",
            "(AB)T=\n",
            " [[23 51]\n",
            " [13 29]]\n",
            "(AT*BT=\n",
            " [[23 51]\n",
            " [13 29]]\n",
            "Is (AB)T equal to BT*AT?  True\n"
          ]
        }
      ]
    },
    {
      "cell_type": "code",
      "source": [
        "#Problem 4 (2)\n",
        "#Solve the following system of Linear equation using Inverse Methods.\n",
        "#2x − 3y + z = −1\n",
        "#x − y + 2z = −3\n",
        "#3x + y − z = 9\n",
        "import numpy as np\n",
        "A=np.array([[2,-3,1],[1,-1,2],[3,1,-1]])\n",
        "B=np.array([-1,-3,9])\n",
        "A_inverse=np.linalg.inv(A)\n",
        "X=np.dot(A_inverse,B)\n",
        "print(f\"The value of x ,y and z is {X[0]} {X[1]} {X[2]} respectively\")\n",
        "#Now: solve the above equation using np.linalg.inv function.\n",
        "print(\"\\nFrom using np.linalg.inv function\\n\")\n",
        "X_solve=np.linalg.solve(A,B)\n",
        "x_solve=np.round(X_solve).astype(int)\n",
        "print(f\"x={x_solve[0]} y={x_solve[1]} and z={x_solve[2]}\")"
      ],
      "metadata": {
        "colab": {
          "base_uri": "https://localhost:8080/"
        },
        "id": "nzJwJdMtLlsk",
        "outputId": "4113875d-2571-4f94-ad7d-b267fd9ece05"
      },
      "execution_count": null,
      "outputs": [
        {
          "output_type": "stream",
          "name": "stdout",
          "text": [
            "The value of x ,y and z is 2.0 1.0 -2.0 respectively\n",
            "\n",
            "From using np.linalg.inv function\n",
            "\n",
            "x=2 y=1 and z=-2\n"
          ]
        }
      ]
    },
    {
      "cell_type": "code",
      "source": [],
      "metadata": {
        "id": "hQapR-4JOmJg"
      },
      "execution_count": null,
      "outputs": []
    }
  ]
}